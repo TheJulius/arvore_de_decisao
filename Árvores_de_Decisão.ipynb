{
  "cells": [
    {
      "cell_type": "markdown",
      "id": "1005f82d",
      "metadata": {
        "id": "1005f82d"
      },
      "source": [
        "As **árvores de decisão** são modelos de aprendizado de máquina supervisionados, o que significa que são criadas a partir de um conjunto de treinamento de dados rotulados. A criação da árvore é onde o aprendizado de máquina acontece."
      ]
    },
    {
      "cell_type": "markdown",
      "id": "7252ecf5",
      "metadata": {
        "id": "7252ecf5"
      },
      "source": [
        "O funcionamento da Árvore de Decisão visa formar “caminhos” que vão dividindo os dados em pequenos grupos. Essa divisão acontece com base nas características dos dados para que, no final, possamos entrar com um novo registro e o modelo nos dizer em qual classe esse dado se encaixa melhor."
      ]
    },
    {
      "cell_type": "markdown",
      "id": "aff433ee",
      "metadata": {
        "id": "aff433ee"
      },
      "source": [
        "Eles também são a base do funcionamento de outros poderosos algoritmos, como o Random Forest, por exemplo."
      ]
    },
    {
      "cell_type": "markdown",
      "id": "bcff8bf9",
      "metadata": {
        "id": "bcff8bf9"
      },
      "source": [
        "### Exemplo 1"
      ]
    },
    {
      "cell_type": "code",
      "execution_count": null,
      "id": "7ad16ff5",
      "metadata": {
        "id": "7ad16ff5"
      },
      "outputs": [],
      "source": [
        "from IPython.display import Image\n",
        "Image('tabela 1.png')"
      ]
    },
    {
      "cell_type": "code",
      "execution_count": null,
      "id": "2b4f7259",
      "metadata": {
        "id": "2b4f7259"
      },
      "outputs": [],
      "source": [
        "Image('árvore de decisão 1.1.png')"
      ]
    },
    {
      "cell_type": "markdown",
      "id": "9d6285f2",
      "metadata": {
        "id": "9d6285f2"
      },
      "source": [
        "É importante observamos que esta mesma tabela poderia levar a construção de uma árvore diferente."
      ]
    },
    {
      "cell_type": "code",
      "execution_count": null,
      "id": "b7f0435f",
      "metadata": {
        "id": "b7f0435f"
      },
      "outputs": [],
      "source": [
        "Image('árvore de decisão 1.2.png')"
      ]
    },
    {
      "cell_type": "markdown",
      "id": "6df9bf4f",
      "metadata": {
        "id": "6df9bf4f"
      },
      "source": [
        "Neste simples exemplo vemos que normalmente não existirá uma única árvore de decisão para um mesmo problema, sendo que com diferentes árvores poderemos chegar a um mesmo resultado."
      ]
    },
    {
      "cell_type": "markdown",
      "id": "4e0dc740",
      "metadata": {
        "id": "4e0dc740"
      },
      "source": [
        "## Definindo os nós e ramos"
      ]
    },
    {
      "cell_type": "markdown",
      "id": "841557c2",
      "metadata": {
        "id": "841557c2"
      },
      "source": [
        "Assim como podemos ter mais de uma árvore para um mesmo problema, também podemos utilizar diferentes métodos de cálculo na criação de uma árvore de decisão.\n",
        "\n",
        "Estes métodos são os responsáveis pela definição da estrutura e resultado final da árvore, e tentam buscar a estrutura mais otimizada para o problema em questão."
      ]
    },
    {
      "cell_type": "markdown",
      "id": "55589cef",
      "metadata": {
        "id": "55589cef"
      },
      "source": [
        "### Entropia"
      ]
    },
    {
      "cell_type": "markdown",
      "id": "376f0431",
      "metadata": {
        "id": "376f0431"
      },
      "source": [
        "Através da entropia o algoritmo verifica como os dados estão distribuídos nas variáveis preditoras de acordo com a variação da variável target. **Quanto maior a entropia, maior a desordem dos dados; e quanto menor, maior será a ordem destes dados**, quando analisados pela ótica da variável target."
      ]
    },
    {
      "cell_type": "code",
      "execution_count": null,
      "id": "327cc8b1",
      "metadata": {
        "id": "327cc8b1"
      },
      "outputs": [],
      "source": [
        "Image('Entropia.png')"
      ]
    },
    {
      "cell_type": "markdown",
      "id": "4b431293",
      "metadata": {
        "id": "4b431293"
      },
      "source": [
        "Nosso objetivo é construir uma árvore que, partindo do conjunto de dados inteiro, criar ramificações baseadas em condições que minimizem a entropia e aumentem o ganho de informação."
      ]
    },
    {
      "cell_type": "code",
      "execution_count": null,
      "id": "501c2d73",
      "metadata": {
        "id": "501c2d73"
      },
      "outputs": [],
      "source": [
        "Image('equação entropia.png')"
      ]
    },
    {
      "cell_type": "markdown",
      "id": "7009f1f3",
      "metadata": {
        "id": "7009f1f3"
      },
      "source": [
        "### Ganho de Informação"
      ]
    },
    {
      "cell_type": "markdown",
      "id": "8703777e",
      "metadata": {
        "id": "8703777e"
      },
      "source": [
        "O ganho de informação é uma medida que nos diz o quão bem uma variável preditora do conjunto de dados separa os registros conforme as suas classes."
      ]
    },
    {
      "cell_type": "code",
      "execution_count": null,
      "id": "f81049be",
      "metadata": {
        "id": "f81049be"
      },
      "outputs": [],
      "source": [
        "Image('equação ganho de informação.png')"
      ]
    },
    {
      "cell_type": "markdown",
      "id": "bc229afe",
      "metadata": {
        "id": "bc229afe"
      },
      "source": [
        "O número de filhos presentes no somatório depende de como a ramificação será feita, mas normalmente são gerados dois nós filhos. Onde o peso para cada um desses filhos é calculado dividindo o total de elementos em um nó filho dividido pelo número de elementos no nó pai:"
      ]
    },
    {
      "cell_type": "code",
      "execution_count": null,
      "id": "4768ddbb",
      "metadata": {
        "id": "4768ddbb"
      },
      "outputs": [],
      "source": [
        "Image('equação peso filho.png')"
      ]
    },
    {
      "cell_type": "code",
      "execution_count": null,
      "id": "2027989a",
      "metadata": {
        "id": "2027989a"
      },
      "outputs": [],
      "source": [
        "Image('ganho de informação.png')"
      ]
    },
    {
      "cell_type": "markdown",
      "id": "21b8af71",
      "metadata": {
        "id": "21b8af71"
      },
      "source": [
        "### Exemplo 2"
      ]
    },
    {
      "cell_type": "code",
      "execution_count": null,
      "id": "1100aaeb",
      "metadata": {
        "id": "1100aaeb"
      },
      "outputs": [],
      "source": [
        "Image('tabela 2.png')"
      ]
    },
    {
      "cell_type": "code",
      "execution_count": null,
      "id": "12051a84",
      "metadata": {
        "id": "12051a84"
      },
      "outputs": [],
      "source": [
        "Image('árvore de decisão 2.png')"
      ]
    },
    {
      "cell_type": "markdown",
      "id": "f6d6c28d",
      "metadata": {
        "id": "f6d6c28d"
      },
      "source": [
        "#### Passo 1. Calcular a entropia da variável target"
      ]
    },
    {
      "cell_type": "code",
      "execution_count": null,
      "id": "3ee94399",
      "metadata": {
        "id": "3ee94399"
      },
      "outputs": [],
      "source": [
        "Image('Entropia variável alvo.png')"
      ]
    },
    {
      "cell_type": "markdown",
      "id": "f9a5494a",
      "metadata": {
        "id": "f9a5494a"
      },
      "source": [
        "#### Passo 2. Cálculo da Entropia e ganho de informação de cada variável preditora/recurso"
      ]
    },
    {
      "cell_type": "markdown",
      "id": "65d6882a",
      "metadata": {
        "id": "65d6882a"
      },
      "source": [
        "Entropia Histórico de Crédito"
      ]
    },
    {
      "cell_type": "code",
      "execution_count": null,
      "id": "1e465632",
      "metadata": {
        "id": "1e465632"
      },
      "outputs": [],
      "source": [
        "Image('Entropia histórico de crédito 1.1.png')"
      ]
    },
    {
      "cell_type": "code",
      "execution_count": null,
      "id": "8dd67acd",
      "metadata": {
        "id": "8dd67acd"
      },
      "outputs": [],
      "source": [
        "Image('Entropia histórico de crédito 1.2.png')"
      ]
    },
    {
      "cell_type": "code",
      "execution_count": null,
      "id": "cf891f1f",
      "metadata": {
        "id": "cf891f1f"
      },
      "outputs": [],
      "source": [
        "Image('Entropia histórico de crédito 2.png')"
      ]
    },
    {
      "cell_type": "markdown",
      "id": "e16a7f35",
      "metadata": {
        "id": "e16a7f35"
      },
      "source": [
        "Entropia Dívida"
      ]
    },
    {
      "cell_type": "code",
      "execution_count": null,
      "id": "6aac5c9b",
      "metadata": {
        "id": "6aac5c9b"
      },
      "outputs": [],
      "source": [
        "Image('Entropia Dívida 1.png')"
      ]
    },
    {
      "cell_type": "markdown",
      "id": "cfdaf4d6",
      "metadata": {
        "id": "cfdaf4d6"
      },
      "source": [
        "**Exercício**\n",
        "\n",
        "Calcule a entropia e o ganho de informação da variável `renda anual`"
      ]
    },
    {
      "cell_type": "code",
      "execution_count": null,
      "id": "90726788",
      "metadata": {
        "id": "90726788"
      },
      "outputs": [],
      "source": [
        "Image('Entropia renda 1.png')"
      ]
    },
    {
      "cell_type": "code",
      "execution_count": null,
      "id": "726c598c",
      "metadata": {
        "id": "726c598c"
      },
      "outputs": [],
      "source": [
        "Image('Entropia renda 2.png')"
      ]
    },
    {
      "cell_type": "markdown",
      "id": "ed287785",
      "metadata": {
        "id": "ed287785"
      },
      "source": [
        "### Ganho de informação de cada variável"
      ]
    },
    {
      "cell_type": "markdown",
      "id": "03c509b3",
      "metadata": {
        "id": "03c509b3"
      },
      "source": [
        "- Histórico de Crédito = 0,26\n",
        "- Dívida = 0,06\n",
        "- Garantias = 0,20\n",
        "- Renda = 0,66"
      ]
    },
    {
      "cell_type": "code",
      "execution_count": null,
      "id": "5b89252f",
      "metadata": {
        "id": "5b89252f"
      },
      "outputs": [],
      "source": [
        "Image('ramos renda.png')"
      ]
    },
    {
      "cell_type": "markdown",
      "id": "ab79412d",
      "metadata": {
        "id": "ab79412d"
      },
      "source": [
        "### Exemplo 3 - Python/Sklearn"
      ]
    },
    {
      "cell_type": "code",
      "execution_count": null,
      "id": "5d90726a",
      "metadata": {
        "id": "5d90726a"
      },
      "outputs": [],
      "source": [
        "import pandas as pd\n",
        "import numpy as np\n",
        "import matplotlib.pyplot as plt\n",
        "import seaborn as sns\n",
        "from sklearn.model_selection import train_test_split\n",
        "from sklearn.tree import DecisionTreeClassifier\n",
        "from sklearn import tree"
      ]
    },
    {
      "cell_type": "code",
      "execution_count": null,
      "id": "090efb2e",
      "metadata": {
        "id": "090efb2e"
      },
      "outputs": [],
      "source": [
        "alunos = pd.read_csv('dados_alunos.csv')\n",
        "x = alunos[['hours_studied','practice_test']]\n",
        "y = alunos[['passed_exam']]"
      ]
    },
    {
      "cell_type": "code",
      "execution_count": null,
      "id": "ddf70f5a",
      "metadata": {
        "id": "ddf70f5a"
      },
      "outputs": [],
      "source": [
        "#Dividindo o conjunto entre treinamento e teste\n",
        "x_train, x_test, y_train, y_test = train_test_split(x,y, random_state=0, test_size=0.2)"
      ]
    },
    {
      "cell_type": "code",
      "execution_count": null,
      "id": "9480628f",
      "metadata": {
        "id": "9480628f"
      },
      "outputs": [],
      "source": [
        "# Criando a Árvore de Decisão\n",
        "arvore_decisao = DecisionTreeClassifier(criterion = 'entropy')"
      ]
    },
    {
      "cell_type": "code",
      "execution_count": null,
      "id": "f3bc3816",
      "metadata": {
        "id": "f3bc3816"
      },
      "outputs": [],
      "source": [
        "# Treinando o modelo com os dados do conjunto de treinamento e imprimindo a profundidade da árvore\n",
        "arvore_decisao.fit(x_train, y_train)\n",
        "print(f'Profundidade da Árvore de Decisão: {arvore_decisao.get_depth()}')"
      ]
    },
    {
      "cell_type": "code",
      "execution_count": null,
      "id": "60239f14",
      "metadata": {
        "id": "60239f14"
      },
      "outputs": [],
      "source": [
        "# Classificando com o conjunto de teste e imprimindo a acurácia do modelo no conjunto de teste\n",
        "y_pred = arvore_decisao.predict(x_test)\n",
        "print(f'Acurácia conjunto de teste: {arvore_decisao.score(x_test, y_test)}')"
      ]
    },
    {
      "cell_type": "code",
      "execution_count": null,
      "id": "5e185110",
      "metadata": {
        "id": "5e185110"
      },
      "outputs": [],
      "source": [
        "# Visualizando a árvore\n",
        "plt.figure(figsize=(27,12))\n",
        "tree.plot_tree(arvore_decisao,feature_names = x_train.columns,class_names = ['não passou', 'passou'], label='all' ,filled=True)\n",
        "plt.tight_layout()\n",
        "plt.show()"
      ]
    },
    {
      "cell_type": "markdown",
      "id": "e39d88c9",
      "metadata": {
        "id": "e39d88c9"
      },
      "source": [
        "## Vantagens e Desvantagens"
      ]
    },
    {
      "cell_type": "markdown",
      "id": "aedf66e7",
      "metadata": {
        "id": "aedf66e7"
      },
      "source": [
        "### Vantagens"
      ]
    },
    {
      "cell_type": "markdown",
      "id": "7fa026eb",
      "metadata": {
        "id": "7fa026eb"
      },
      "source": [
        "- Fácil interpretação\n",
        "- Não precisa de normalização ou padronização\n",
        "- Rápido para classificar novos registros"
      ]
    },
    {
      "cell_type": "markdown",
      "id": "f1599350",
      "metadata": {
        "id": "f1599350"
      },
      "source": [
        "### Desvantagens"
      ]
    },
    {
      "cell_type": "markdown",
      "id": "646f9251",
      "metadata": {
        "id": "646f9251"
      },
      "source": [
        "- Geração de árvores muito complexas\n",
        "- Pequenas mudanças nos dados podem mudar a árvore\n",
        "- Problema NP-completo para contruir a árvore"
      ]
    },
    {
      "cell_type": "markdown",
      "id": "454eb097",
      "metadata": {
        "id": "454eb097"
      },
      "source": [
        "# Fim"
      ]
    }
  ],
  "metadata": {
    "kernelspec": {
      "display_name": "Python 3",
      "language": "python",
      "name": "python3"
    },
    "language_info": {
      "codemirror_mode": {
        "name": "ipython",
        "version": 3
      },
      "file_extension": ".py",
      "mimetype": "text/x-python",
      "name": "python",
      "nbconvert_exporter": "python",
      "pygments_lexer": "ipython3",
      "version": "3.8.8"
    },
    "colab": {
      "provenance": []
    }
  },
  "nbformat": 4,
  "nbformat_minor": 5
}